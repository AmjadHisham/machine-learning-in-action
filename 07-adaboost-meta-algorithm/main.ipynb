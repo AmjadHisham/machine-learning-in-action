{
 "cells": [
  {
   "cell_type": "code",
   "execution_count": 71,
   "metadata": {},
   "outputs": [],
   "source": [
    "import numpy as np\n",
    "import unittest"
   ]
  },
  {
   "cell_type": "code",
   "execution_count": 72,
   "metadata": {},
   "outputs": [],
   "source": [
    "def load_data():\n",
    "    X = np.matrix([[1.0, 2.1],\n",
    "                   [2.0, 1.1],\n",
    "                   [1.3, 1.0],\n",
    "                   [1.0, 1.0],\n",
    "                   [2.0, 1.0]])\n",
    "    y = [1.0, 1.0, -1.0, -1.0, 1.0]\n",
    "    return X, y"
   ]
  },
  {
   "cell_type": "code",
   "execution_count": 73,
   "metadata": {},
   "outputs": [],
   "source": [
    "def classify_stump(X, dimension, threshold, thresh_inequality):\n",
    "    X_arr = np.ones((np.shape(X)[0], 1))\n",
    "    if thresh_inequality == 'lt':\n",
    "        X_arr[X[:, dimension] <= threshold] = -1.0\n",
    "    else:\n",
    "        X_arr[X[:, dimension] > threshold] = -1.0\n",
    "    return X_arr"
   ]
  },
  {
   "cell_type": "code",
   "execution_count": 74,
   "metadata": {},
   "outputs": [],
   "source": [
    "def build_stump(X, y, D):\n",
    "    X_mat = np.matrix(X)\n",
    "    y_mat = np.matrix(y).T\n",
    "    m, n = np.shape(X)\n",
    "    \n",
    "    num_steps = 10.0\n",
    "    best_stump = {}\n",
    "    best_class_estimator = np.mat(np.zeros((m, 1)))\n",
    "    \n",
    "    min_error = np.inf\n",
    "    \n",
    "    # For each of the features\n",
    "    for i in range(n):\n",
    "        range_min = X_mat[:, i].min()\n",
    "        range_max = X_mat[:, i].max()\n",
    "        \n",
    "        step_size = (range_max - range_min) / num_steps\n",
    "        for j in range(-1, int(num_steps) + 1):\n",
    "            for inequal in ['lt', 'gt']:\n",
    "                threshold = (range_min + float(j) * step_size)\n",
    "                y_predicted = classify_stump(X_mat, i, threshold, inequal)\n",
    "                err_arr = np.mat(np.ones((m, 1)))\n",
    "                err_arr[y_predicted == y_mat] = 0\n",
    "                weighted_error = D.T * err_arr\n",
    "                if weighted_error < min_error:\n",
    "                    min_error = weighted_error\n",
    "                    best_class_estimator = y_predicted.copy()\n",
    "                    best_stump['dim'] = i\n",
    "                    best_stump['thresh'] = threshold\n",
    "                    best_stump['ineq'] = inequal\n",
    "    return best_stump, min_error, best_class_estimator"
   ]
  },
  {
   "cell_type": "code",
   "execution_count": 75,
   "metadata": {},
   "outputs": [],
   "source": [
    "def adaboost_train_decision_stumps(X, y, epochs = 40):\n",
    "    weak_class_arr = []\n",
    "    m = np.shape(X)[0]\n",
    "    D = np.mat(np.ones((m, 1)) / m)\n",
    "    agg_class_estimator = np.mat(np.zeros((m, 1)))\n",
    "    \n",
    "    for i in range(epochs):\n",
    "        best_stump, error, class_estimator = build_stump(X, y, D)\n",
    "#         print('D:', D.T)\n",
    "        \n",
    "        alpha = float(0.5 * np.log((1.0 - error) / max(error, 1e-16)))\n",
    "        best_stump['alpha'] = alpha\n",
    "        weak_class_arr.append(best_stump)\n",
    "        \n",
    "#         print('class_estimator:', class_estimator.T)\n",
    "        \n",
    "        expon = np.multiply(-1 * alpha * np.mat(y).T, class_estimator)\n",
    "        \n",
    "        D = np.multiply(D, np.exp(expon))\n",
    "        D = D / D.sum()\n",
    "        \n",
    "        agg_class_estimator += alpha * class_estimator\n",
    "#         print('agg_class_estimator:', agg_class_estimator.T)\n",
    "        \n",
    "        agg_errors = np.multiply(np.sign(agg_class_estimator) != np.mat(y).T, np.ones((m, 1)))\n",
    "        error_rate = agg_errors.sum() / m\n",
    "#         print('total_error:', error_rate)\n",
    "    return weak_class_arr"
   ]
  },
  {
   "cell_type": "code",
   "execution_count": 78,
   "metadata": {},
   "outputs": [],
   "source": [
    "def ada_classifier(X, y):\n",
    "    X_mat = np.mat(X)\n",
    "    m = np.shape(X_mat)[0]\n",
    "    agg_class_estimator = np.mat(np.zeros((m, 1)))\n",
    "    for i in range(len(y)):\n",
    "        class_estimator = classify_stump(X, y[i]['dim'], y[i]['thresh'], y[i]['ineq'])\n",
    "        agg_class_estimator += y[i]['alpha'] * class_estimator\n",
    "    return np.sign(agg_class_estimator)"
   ]
  },
  {
   "cell_type": "code",
   "execution_count": 88,
   "metadata": {},
   "outputs": [
    {
     "name": "stderr",
     "output_type": "stream",
     "text": [
      "....\n",
      "----------------------------------------------------------------------\n",
      "Ran 4 tests in 0.178s\n",
      "\n",
      "OK\n"
     ]
    }
   ],
   "source": [
    "class AdaBoostTestCase(unittest.TestCase):\n",
    "    def test_load_data(self):\n",
    "        X, y = load_data()\n",
    "        self.assertEqual(len(X), len(y))\n",
    "    \n",
    "    def test_build_stump(self):\n",
    "        X, y = load_data()\n",
    "        D = np.mat(np.ones((5, 1))/ 5)\n",
    "        \n",
    "        best_stump, min_error, best_class_estimator = build_stump(X, y, D)\n",
    "        self.assertDictEqual(best_stump, {'dim': 0, 'thresh': 1.3, 'ineq': 'lt'})\n",
    "        self.assertEqual(min_error, np.matrix([[0.2]]))\n",
    "        self.assertEqual(list(best_class_estimator), list([[-1.0], [1.0], [-1.0], [-1.0], [1.0]]))\n",
    "    \n",
    "    def test_adaboost_train_decision_stumps(self):\n",
    "        X, y = load_data()\n",
    "        out = adaboost_train_decision_stumps(X, y)\n",
    "        self.assertTrue(len(out) != 0)\n",
    "    \n",
    "    def test_ada_classify(self):\n",
    "        X, y = load_data()\n",
    "        classifier = adaboost_train_decision_stumps(X, y, 30)\n",
    "        out = ada_classifier(np.array([[5.0, 5.0], [0.0, 0.0]]), classifier)\n",
    "        self.assertTrue(len(out) != 0)\n",
    "        \n",
    "\n",
    "if __name__ == '__main__':\n",
    "    unittest.main(argv = ['ignore-first-arg'], exit = False)"
   ]
  }
 ],
 "metadata": {
  "kernelspec": {
   "display_name": "Python 3",
   "language": "python",
   "name": "python3"
  },
  "language_info": {
   "codemirror_mode": {
    "name": "ipython",
    "version": 3
   },
   "file_extension": ".py",
   "mimetype": "text/x-python",
   "name": "python",
   "nbconvert_exporter": "python",
   "pygments_lexer": "ipython3",
   "version": "3.6.4"
  }
 },
 "nbformat": 4,
 "nbformat_minor": 2
}
